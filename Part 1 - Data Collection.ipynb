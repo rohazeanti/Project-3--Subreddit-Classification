{
 "cells": [
  {
   "cell_type": "markdown",
   "metadata": {},
   "source": [
    "# Project 3: Subreddit Classification (Part 1 of 2)\n",
    "\n",
    "\n",
    "> By:  Rohazeanti Mohamad Jenpire"
   ]
  },
  {
   "cell_type": "markdown",
   "metadata": {},
   "source": [
    "## Table of Contents\n",
    "- [Problem Statement](#Problem-Statement)\n",
    "- [Imports](#Imports)\n",
    "- [Data Collection](#Data-Collection)"
   ]
  },
  {
   "cell_type": "markdown",
   "metadata": {},
   "source": [
    "## Problem Statement"
   ]
  },
  {
   "cell_type": "markdown",
   "metadata": {},
   "source": [
    "Develop a classification model that can distinguish which of two subreddits, (r/diet or r/exercise), a particular post belongs to.\n",
    "\n",
    "Diet and exercise are both essential for optimal health. And people often incorporate diet (for the purpose of living a healthy life) with exercise in their daily lives. We also often associate the word diet with unpleasant weight-loss regimen?  For example, consider the use of the term \"diet\" in marketing food products—it usually describes foods low in calories, such as diet soda.But there is another meaning of this word. Diet can also refer to the food and drink a person consumes daily and the mental and physical circumstances connected to eating. Nutrition involves more than simply eating a “good” diet—it is about nourishment on every level. \n",
    "\n",
    "Exercise and diet is associated with weight loss, losing weight, reduce fat, burn calorie(food or type of exercises). There are posts that are diet related are posted in r/exercise and vice versa. \n",
    "\n",
    "As the data scientist on the team, I have been assigned the task of building a classificiation model that can accurately classify posts from each subreddit so that r/diet and r/exercise can be free of unrelated posts so that the forum can continue to offer accurate content. "
   ]
  },
  {
   "cell_type": "markdown",
   "metadata": {},
   "source": [
    "#### Imports"
   ]
  },
  {
   "cell_type": "code",
   "execution_count": 2,
   "metadata": {},
   "outputs": [],
   "source": [
    "import requests\n",
    "import time\n",
    "import pandas as pd\n",
    "import numpy as np\n",
    "\n",
    "import warnings\n",
    "warnings.simplefilter(action='ignore', category=FutureWarning)"
   ]
  },
  {
   "cell_type": "markdown",
   "metadata": {},
   "source": [
    "## Data Collection"
   ]
  },
  {
   "cell_type": "code",
   "execution_count": 3,
   "metadata": {},
   "outputs": [],
   "source": [
    "def get_posts(subreddit, number=100):\n",
    "    url = 'https://api.pushshift.io/reddit/search/submission'\n",
    "    params = {\n",
    "            'subreddit': subreddit,\n",
    "            'size': 100\n",
    "        } # 'before' is added later in the while loop\n",
    "    df = pd.DataFrame() # empty dataframe for concatenating\n",
    "    returned = pd.DataFrame()\n",
    "    while True: # Need a break out of this\n",
    "        num = np.random.randint(5,30)\n",
    "        time.sleep(num)\n",
    "        \n",
    "        res = requests.get(url, params)\n",
    "        data = res.json()\n",
    "        posts = data['data']\n",
    "        df = pd.DataFrame(posts)\n",
    "        \n",
    "        params['before'] = df.iloc[-1:,:]['created_utc']\n",
    "        \n",
    "        returned = pd.concat([returned, df[['subreddit','selftext','title', 'created_utc']]], axis=0)\n",
    "        returned.drop_duplicates(inplace=True)\n",
    "        \n",
    "        if len(returned) > number:\n",
    "            break\n",
    "      \n",
    "    returned.reset_index(inplace=True,drop=True)\n",
    "    n_post = returned[:number]\n",
    "    print(f\"Data collection completed...{len(n_post)} total number of posts collected. \")\n",
    "    return returned[:number]\n",
    "    "
   ]
  },
  {
   "cell_type": "markdown",
   "metadata": {},
   "source": [
    "### Scrape `diet` posts"
   ]
  },
  {
   "cell_type": "code",
   "execution_count": 9,
   "metadata": {},
   "outputs": [
    {
     "name": "stdout",
     "output_type": "stream",
     "text": [
      "Data collection completed...3000 total number of posts collected. \n"
     ]
    }
   ],
   "source": [
    "diet = get_posts('diet', number=3000)"
   ]
  },
  {
   "cell_type": "code",
   "execution_count": 10,
   "metadata": {},
   "outputs": [
    {
     "data": {
      "text/plain": [
       "2088"
      ]
     },
     "execution_count": 10,
     "metadata": {},
     "output_type": "execute_result"
    }
   ],
   "source": [
    "len(diet[\"selftext\"].unique())"
   ]
  },
  {
   "cell_type": "code",
   "execution_count": 11,
   "metadata": {},
   "outputs": [
    {
     "data": {
      "text/html": [
       "<div>\n",
       "<style scoped>\n",
       "    .dataframe tbody tr th:only-of-type {\n",
       "        vertical-align: middle;\n",
       "    }\n",
       "\n",
       "    .dataframe tbody tr th {\n",
       "        vertical-align: top;\n",
       "    }\n",
       "\n",
       "    .dataframe thead th {\n",
       "        text-align: right;\n",
       "    }\n",
       "</style>\n",
       "<table border=\"1\" class=\"dataframe\">\n",
       "  <thead>\n",
       "    <tr style=\"text-align: right;\">\n",
       "      <th></th>\n",
       "      <th>subreddit</th>\n",
       "      <th>selftext</th>\n",
       "      <th>title</th>\n",
       "      <th>created_utc</th>\n",
       "    </tr>\n",
       "  </thead>\n",
       "  <tbody>\n",
       "    <tr>\n",
       "      <th>0</th>\n",
       "      <td>diet</td>\n",
       "      <td></td>\n",
       "      <td>Best diet to lose weight before going on vacat...</td>\n",
       "      <td>1659585910</td>\n",
       "    </tr>\n",
       "    <tr>\n",
       "      <th>1</th>\n",
       "      <td>diet</td>\n",
       "      <td>[removed]</td>\n",
       "      <td>Does anyone else get sick from foods you used ...</td>\n",
       "      <td>1659582639</td>\n",
       "    </tr>\n",
       "    <tr>\n",
       "      <th>2</th>\n",
       "      <td>diet</td>\n",
       "      <td>For those of you that do not know, a fruitaria...</td>\n",
       "      <td>Debunking the fruitarian diet</td>\n",
       "      <td>1659567365</td>\n",
       "    </tr>\n",
       "    <tr>\n",
       "      <th>3</th>\n",
       "      <td>diet</td>\n",
       "      <td>[removed]</td>\n",
       "      <td>Is it okay if I stop eating all bread , pasta,...</td>\n",
       "      <td>1659554541</td>\n",
       "    </tr>\n",
       "    <tr>\n",
       "      <th>4</th>\n",
       "      <td>diet</td>\n",
       "      <td>[removed]</td>\n",
       "      <td>KETO DIET</td>\n",
       "      <td>1659546069</td>\n",
       "    </tr>\n",
       "    <tr>\n",
       "      <th>5</th>\n",
       "      <td>diet</td>\n",
       "      <td></td>\n",
       "      <td>How do I complet my protein requirement as a v...</td>\n",
       "      <td>1659545207</td>\n",
       "    </tr>\n",
       "    <tr>\n",
       "      <th>6</th>\n",
       "      <td>diet</td>\n",
       "      <td>[removed]</td>\n",
       "      <td>Working out on an empty stomach</td>\n",
       "      <td>1659544720</td>\n",
       "    </tr>\n",
       "    <tr>\n",
       "      <th>7</th>\n",
       "      <td>diet</td>\n",
       "      <td>Since I stopped smoking and drinking alcohol I...</td>\n",
       "      <td>Cheating &amp;amp; Boredom</td>\n",
       "      <td>1659542824</td>\n",
       "    </tr>\n",
       "    <tr>\n",
       "      <th>8</th>\n",
       "      <td>diet</td>\n",
       "      <td>[removed]</td>\n",
       "      <td>Diet idea</td>\n",
       "      <td>1659539759</td>\n",
       "    </tr>\n",
       "    <tr>\n",
       "      <th>9</th>\n",
       "      <td>diet</td>\n",
       "      <td>[removed]</td>\n",
       "      <td>Is it important to eat a mix of vegetables?</td>\n",
       "      <td>1659534798</td>\n",
       "    </tr>\n",
       "  </tbody>\n",
       "</table>\n",
       "</div>"
      ],
      "text/plain": [
       "  subreddit                                           selftext  \\\n",
       "0      diet                                                      \n",
       "1      diet                                          [removed]   \n",
       "2      diet  For those of you that do not know, a fruitaria...   \n",
       "3      diet                                          [removed]   \n",
       "4      diet                                          [removed]   \n",
       "5      diet                                                      \n",
       "6      diet                                          [removed]   \n",
       "7      diet  Since I stopped smoking and drinking alcohol I...   \n",
       "8      diet                                          [removed]   \n",
       "9      diet                                          [removed]   \n",
       "\n",
       "                                               title  created_utc  \n",
       "0  Best diet to lose weight before going on vacat...   1659585910  \n",
       "1  Does anyone else get sick from foods you used ...   1659582639  \n",
       "2                      Debunking the fruitarian diet   1659567365  \n",
       "3  Is it okay if I stop eating all bread , pasta,...   1659554541  \n",
       "4                                          KETO DIET   1659546069  \n",
       "5  How do I complet my protein requirement as a v...   1659545207  \n",
       "6                    Working out on an empty stomach   1659544720  \n",
       "7                             Cheating &amp; Boredom   1659542824  \n",
       "8                                          Diet idea   1659539759  \n",
       "9        Is it important to eat a mix of vegetables?   1659534798  "
      ]
     },
     "execution_count": 11,
     "metadata": {},
     "output_type": "execute_result"
    }
   ],
   "source": [
    "diet.head(10)"
   ]
  },
  {
   "cell_type": "code",
   "execution_count": 12,
   "metadata": {},
   "outputs": [
    {
     "data": {
      "text/plain": [
       "(3000, 4)"
      ]
     },
     "execution_count": 12,
     "metadata": {},
     "output_type": "execute_result"
    }
   ],
   "source": [
    "diet.shape"
   ]
  },
  {
   "cell_type": "code",
   "execution_count": 13,
   "metadata": {},
   "outputs": [],
   "source": [
    "# Save to csv\n",
    "diet.to_csv(\"diet.csv\", index=False)"
   ]
  },
  {
   "cell_type": "code",
   "execution_count": null,
   "metadata": {},
   "outputs": [],
   "source": []
  },
  {
   "cell_type": "code",
   "execution_count": 4,
   "metadata": {},
   "outputs": [
    {
     "name": "stdout",
     "output_type": "stream",
     "text": [
      "Data collection completed...3000 total number of posts collected. \n"
     ]
    }
   ],
   "source": [
    "exercise = get_posts('exercise', number=3000)"
   ]
  },
  {
   "cell_type": "code",
   "execution_count": 5,
   "metadata": {},
   "outputs": [
    {
     "data": {
      "text/plain": [
       "1092"
      ]
     },
     "execution_count": 5,
     "metadata": {},
     "output_type": "execute_result"
    }
   ],
   "source": [
    "len(exercise[\"selftext\"].unique())"
   ]
  },
  {
   "cell_type": "code",
   "execution_count": 6,
   "metadata": {},
   "outputs": [
    {
     "data": {
      "text/plain": [
       "                                                                                                                                                                                                                                                                                                                                                                                                                                                                                                                                                                                                                                                                                                                                                       1473\n",
       "[removed]                                                                                                                                                                                                                                                                                                                                                                                                                                                                                                                                                                                                                                                                                                                                               397\n",
       "[deleted]                                                                                                                                                                                                                                                                                                                                                                                                                                                                                                                                                                                                                                                                                                                                                26\n",
       "Let's see who's more active!\\nI'm tracking my steps with friends on StepUp.\\nGet the app. It's fun! #HealthyCompetition\\nhttp://get.thestepupapp.com/                                                                                                                                                                                                                                                                                                                                                                                                                                                                                                                                                                                                     3\n",
       "(7:00AM): Banana, 30 mins on stairmaster, 20 mins in the sauna. Eggs/toast/fruit post workout \\n(5:00PM): 45 minute strength workout. I rotate between bis/back, tris/chest, and legs. \\n\\nDiet: I’m hitting my macros and timing meals so I eat 2-1.5 hours before workouts and then again right after (except a banana 30 mins before my morning stairmaster). Healthy chicken breast, brown rice, veggies, fruit, beans, almond milk vegan protein shakes(dairy fucks me up), sugarless/no added oil peanut butter, eggs etc…\\n\\nNotes: I haven’t been working out long. I’ve got a little bit of a belly. 6’0” 185lbs, 20%bf. I don’t care about being fat. Goals: be stronger and improve cardio, I’ll work on my bf later. I work a desk job.       2\n",
       "                                                                                                                                                                                                                                                                                                                                                                                                                                                                                                                                                                                                                                                                                                                                                       ... \n",
       "14/F \\n\\n\\nI've noticed that my butt is lower than other girls in TV, video games and in real life as well. I already hate my body enough so this makes it worse. My mom said that I need to lose weight before I decide to do any squats but I might have an unknown thyroid issue so losing weight could take longer than I want it to. Is there any way to make my butt look better?\\n\\n\\nHeight: 5\"5.5 \\nWeight: 178 \\nGoal weight: ~140 \\n(Idk if any of these matter but I'm just gonna put them here I guess)                                                                                                                                                                                                                                      1\n",
       "I just want to make sure im taking the correct path. \\nI am very skinny (like I wanna gain weight and I try) and I am short waisted\\n\\nI have been doing fire hydrants, side leg raises, some squats. I wanna fill in my hip dips and gain more muscle in my rear so I look nicer.\\n\\nWill this work? This is a dumb question but I want to make sure I am doing this right                                                                                                                                                                                                                                                                                                                                                                               1\n",
       "I used to be a runner. If I was too tired to run I would walk. Exercise was therapeutic and I really enjoyed it. I have let myself go over the past 6 years. I miss my old habits and the strength, confidence, clarity, and energy I had when exercise was a priority. I prefer to exercise at night, alone. \\n\\nAny advice on getting back on the horse without burnout or injury would be greatly appreciated. \\n\\nI plan to start slow with low impact exercises, as I weigh about 40lbs more than I used to.                                                                                                                                                                                                                                         1\n",
       "I recently started running on these large-steep staircases connected to hilltops. It’s a great place to workout. \\n\\nAnyway, there was a sign that said, “One mile of stair climbing equals burning 750 calories.” I thought, “That’s it?!” \\n\\nThese staircases are no joke and I couldn’t help but think, “That’s like one burrito at Taco Bell.” \\n\\nI know it may sound stupid but does burning 750 calories really equate to say... eating one 750 calorie burrito?                                                                                                                                                                                                                                                                                  1\n",
       "Hey guys\\n\\nI very recently decided to turn my life around and begin to take care of myself. \\n\\nAs for title my question is simple. \\n\\nI'm going.out for a walk and since I never run before I tried very carefully to tune up a bit my workout by jogging. \\n\\nMy problem is that while I walk I can continue until I'm exhausted, I don't have to stop or anything like that. Like I could potentially walk 1 hour and be fine. \\n\\nI tried jogging a bit, and ... man. I was almost leaving my lungs on the asphalt. \\n\\nMy smartwatch say while jogging my heart rate went like 170 bpm and I felt like shet. \\n\\nI'm a 112kg person and my objective is 80kgs. Is my struggle normal or should I give up jogging for now? Any advices?             1\n",
       "Name: selftext, Length: 1091, dtype: int64"
      ]
     },
     "execution_count": 6,
     "metadata": {},
     "output_type": "execute_result"
    }
   ],
   "source": [
    "exercise[\"selftext\"].value_counts()"
   ]
  },
  {
   "cell_type": "code",
   "execution_count": 7,
   "metadata": {},
   "outputs": [
    {
     "data": {
      "text/plain": [
       "subreddit      0\n",
       "selftext       8\n",
       "title          0\n",
       "created_utc    0\n",
       "dtype: int64"
      ]
     },
     "execution_count": 7,
     "metadata": {},
     "output_type": "execute_result"
    }
   ],
   "source": [
    "exercise.isnull().sum() "
   ]
  },
  {
   "cell_type": "code",
   "execution_count": 8,
   "metadata": {},
   "outputs": [],
   "source": [
    "# Save to csv\n",
    "exercise.to_csv(\"exercise.csv\", index=False)"
   ]
  },
  {
   "cell_type": "code",
   "execution_count": null,
   "metadata": {},
   "outputs": [],
   "source": []
  }
 ],
 "metadata": {
  "kernelspec": {
   "display_name": "Python 3",
   "language": "python",
   "name": "python3"
  },
  "language_info": {
   "codemirror_mode": {
    "name": "ipython",
    "version": 3
   },
   "file_extension": ".py",
   "mimetype": "text/x-python",
   "name": "python",
   "nbconvert_exporter": "python",
   "pygments_lexer": "ipython3",
   "version": "3.7.9"
  }
 },
 "nbformat": 4,
 "nbformat_minor": 4
}
